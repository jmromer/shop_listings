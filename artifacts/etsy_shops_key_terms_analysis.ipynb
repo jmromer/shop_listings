{
 "cells": [
  {
   "cell_type": "markdown",
   "metadata": {
    "ein.tags": "worksheet-0",
    "slideshow": {
     "slide_type": "-"
    }
   },
   "source": [
    "# Etsy shops key terms analysis"
   ]
  },
  {
   "cell_type": "markdown",
   "metadata": {},
   "source": [
    "## Data sourcing and preparation"
   ]
  },
  {
   "cell_type": "markdown",
   "metadata": {},
   "source": [
    "The Etsy API was polled for active listings from two stores, `AgnesHart` and `DesignsByBrandiCo`.\n",
    "\n",
    "Along with their corresponding shop names, the title and description for the active listing records for each shop were saved to a CSV file in `./data/shop_listings.csv`."
   ]
  },
  {
   "cell_type": "markdown",
   "metadata": {},
   "source": [
    "### Load store listings data"
   ]
  },
  {
   "cell_type": "code",
   "execution_count": 74,
   "metadata": {},
   "outputs": [
    {
     "name": "stdout",
     "output_type": "stream",
     "text": [
      "<class 'pandas.core.frame.DataFrame'>\n",
      "RangeIndex: 323 entries, 0 to 322\n",
      "Data columns (total 2 columns):\n",
      "shop_name    323 non-null object\n",
      "text         323 non-null object\n",
      "dtypes: object(2)\n",
      "memory usage: 5.1+ KB\n"
     ]
    }
   ],
   "source": [
    "import pandas as pd \n",
    "shops_df = pd.read_csv('../data/shop_listings.csv')\n",
    "shops_df.info()"
   ]
  },
  {
   "cell_type": "code",
   "execution_count": 75,
   "metadata": {},
   "outputs": [
    {
     "data": {
      "text/html": [
       "<div>\n",
       "<style scoped>\n",
       "    .dataframe tbody tr th:only-of-type {\n",
       "        vertical-align: middle;\n",
       "    }\n",
       "\n",
       "    .dataframe tbody tr th {\n",
       "        vertical-align: top;\n",
       "    }\n",
       "\n",
       "    .dataframe thead th {\n",
       "        text-align: right;\n",
       "    }\n",
       "</style>\n",
       "<table border=\"1\" class=\"dataframe\">\n",
       "  <thead>\n",
       "    <tr style=\"text-align: right;\">\n",
       "      <th></th>\n",
       "      <th>shop_name</th>\n",
       "      <th>text</th>\n",
       "    </tr>\n",
       "  </thead>\n",
       "  <tbody>\n",
       "    <tr>\n",
       "      <th>0</th>\n",
       "      <td>AgnesHart</td>\n",
       "      <td>1950s Bridal Headpiece, Bridal Cocktail Hat an...</td>\n",
       "    </tr>\n",
       "    <tr>\n",
       "      <th>1</th>\n",
       "      <td>AgnesHart</td>\n",
       "      <td>Ivory Birdcage veil and Delicate Hair Vine - B...</td>\n",
       "    </tr>\n",
       "    <tr>\n",
       "      <th>2</th>\n",
       "      <td>AgnesHart</td>\n",
       "      <td>Ivory Birdcage veil  with Floral lace - Bridal...</td>\n",
       "    </tr>\n",
       "    <tr>\n",
       "      <th>3</th>\n",
       "      <td>AgnesHart</td>\n",
       "      <td>Vintage Wedding Veil and Tiara  - Bridal Crown...</td>\n",
       "    </tr>\n",
       "    <tr>\n",
       "      <th>4</th>\n",
       "      <td>AgnesHart</td>\n",
       "      <td>Luxury Beaded Juliet Cap Wedding Veil  , Kate ...</td>\n",
       "    </tr>\n",
       "  </tbody>\n",
       "</table>\n",
       "</div>"
      ],
      "text/plain": [
       "   shop_name                                               text\n",
       "0  AgnesHart  1950s Bridal Headpiece, Bridal Cocktail Hat an...\n",
       "1  AgnesHart  Ivory Birdcage veil and Delicate Hair Vine - B...\n",
       "2  AgnesHart  Ivory Birdcage veil  with Floral lace - Bridal...\n",
       "3  AgnesHart  Vintage Wedding Veil and Tiara  - Bridal Crown...\n",
       "4  AgnesHart  Luxury Beaded Juliet Cap Wedding Veil  , Kate ..."
      ]
     },
     "execution_count": 75,
     "metadata": {},
     "output_type": "execute_result"
    }
   ],
   "source": [
    "agnes_df = shops_df[shops_df['shop_name'] == 'AgnesHart']\n",
    "agnes_df.head()"
   ]
  },
  {
   "cell_type": "code",
   "execution_count": 190,
   "metadata": {},
   "outputs": [
    {
     "data": {
      "text/html": [
       "<div>\n",
       "<style scoped>\n",
       "    .dataframe tbody tr th:only-of-type {\n",
       "        vertical-align: middle;\n",
       "    }\n",
       "\n",
       "    .dataframe tbody tr th {\n",
       "        vertical-align: top;\n",
       "    }\n",
       "\n",
       "    .dataframe thead th {\n",
       "        text-align: right;\n",
       "    }\n",
       "</style>\n",
       "<table border=\"1\" class=\"dataframe\">\n",
       "  <thead>\n",
       "    <tr style=\"text-align: right;\">\n",
       "      <th></th>\n",
       "      <th>shop_name</th>\n",
       "      <th>text</th>\n",
       "    </tr>\n",
       "  </thead>\n",
       "  <tbody>\n",
       "    <tr>\n",
       "      <th>105</th>\n",
       "      <td>DesignsByBrandiCo</td>\n",
       "      <td>Disney Snack Goals // Disney World decal // Di...</td>\n",
       "    </tr>\n",
       "    <tr>\n",
       "      <th>106</th>\n",
       "      <td>DesignsByBrandiCo</td>\n",
       "      <td>Cheerleading socks // Summit Socks // Good Luc...</td>\n",
       "    </tr>\n",
       "    <tr>\n",
       "      <th>107</th>\n",
       "      <td>DesignsByBrandiCo</td>\n",
       "      <td>Cheerleading socks // Good Luck socks // dance...</td>\n",
       "    </tr>\n",
       "    <tr>\n",
       "      <th>108</th>\n",
       "      <td>DesignsByBrandiCo</td>\n",
       "      <td>Texas Aggie ring dish // Whoop! // ring dish /...</td>\n",
       "    </tr>\n",
       "    <tr>\n",
       "      <th>109</th>\n",
       "      <td>DesignsByBrandiCo</td>\n",
       "      <td>Cactus Tan Decals // Tanning Stickers // Tanni...</td>\n",
       "    </tr>\n",
       "  </tbody>\n",
       "</table>\n",
       "</div>"
      ],
      "text/plain": [
       "             shop_name                                               text\n",
       "105  DesignsByBrandiCo  Disney Snack Goals // Disney World decal // Di...\n",
       "106  DesignsByBrandiCo  Cheerleading socks // Summit Socks // Good Luc...\n",
       "107  DesignsByBrandiCo  Cheerleading socks // Good Luck socks // dance...\n",
       "108  DesignsByBrandiCo  Texas Aggie ring dish // Whoop! // ring dish /...\n",
       "109  DesignsByBrandiCo  Cactus Tan Decals // Tanning Stickers // Tanni..."
      ]
     },
     "execution_count": 190,
     "metadata": {},
     "output_type": "execute_result"
    }
   ],
   "source": [
    "brandi_df = shops_df[shops_df['shop_name'] == 'DesignsByBrandiCo']\n",
    "brandi_df.head()"
   ]
  },
  {
   "cell_type": "markdown",
   "metadata": {},
   "source": [
    "### Naive word counts"
   ]
  },
  {
   "cell_type": "code",
   "execution_count": 212,
   "metadata": {},
   "outputs": [
    {
     "data": {
      "text/html": [
       "<div>\n",
       "<style scoped>\n",
       "    .dataframe tbody tr th:only-of-type {\n",
       "        vertical-align: middle;\n",
       "    }\n",
       "\n",
       "    .dataframe tbody tr th {\n",
       "        vertical-align: top;\n",
       "    }\n",
       "\n",
       "    .dataframe thead th {\n",
       "        text-align: right;\n",
       "    }\n",
       "</style>\n",
       "<table border=\"1\" class=\"dataframe\">\n",
       "  <thead>\n",
       "    <tr style=\"text-align: right;\">\n",
       "      <th></th>\n",
       "      <th>text</th>\n",
       "    </tr>\n",
       "    <tr>\n",
       "      <th>shop_name</th>\n",
       "      <th></th>\n",
       "    </tr>\n",
       "  </thead>\n",
       "  <tbody>\n",
       "    <tr>\n",
       "      <th>AgnesHart</th>\n",
       "      <td>s bridal headpiece  bridal cocktail hat an...</td>\n",
       "    </tr>\n",
       "    <tr>\n",
       "      <th>DesignsByBrandiCo</th>\n",
       "      <td>disney snack goals    disney world decal    di...</td>\n",
       "    </tr>\n",
       "  </tbody>\n",
       "</table>\n",
       "</div>"
      ],
      "text/plain": [
       "                                                                text\n",
       "shop_name                                                           \n",
       "AgnesHart              s bridal headpiece  bridal cocktail hat an...\n",
       "DesignsByBrandiCo  disney snack goals    disney world decal    di..."
      ]
     },
     "execution_count": 212,
     "metadata": {},
     "output_type": "execute_result"
    }
   ],
   "source": [
    "text_df = shops_df.groupby('shop_name').agg(lambda x: ' '.join(x))\n",
    "text_df['text'] = text_df['text'].str.lower().str.replace(r'[^a-z]', ' ')\n",
    "text_df.head()"
   ]
  },
  {
   "cell_type": "code",
   "execution_count": 271,
   "metadata": {},
   "outputs": [
    {
     "data": {
      "text/plain": [
       "[('veil', 731),\n",
       " ('shop', 286),\n",
       " ('please', 280),\n",
       " ('hair', 277),\n",
       " ('headpiece', 256),\n",
       " ('agneshart', 223),\n",
       " ('will', 219)]"
      ]
     },
     "execution_count": 271,
     "metadata": {},
     "output_type": "execute_result"
    }
   ],
   "source": [
    "from collections import Counter\n",
    "\n",
    "STOP_WORDS = [\n",
    "    '', 'the', 'and', 'a', 'to', 'in', 'for', 'is', 'it', 'i',\n",
    "    'with', 'of', 'your', 'com', 'www', 'this', 'be', 'that',\n",
    "    'me', 'etsy', 'you', 'can', 's', 'a', 'on', 'here'\n",
    "]\n",
    "\n",
    "agnes_text = [word for word in text_df.loc['AgnesHart', 'text'].split(' ') if len(word) > 3]\n",
    "\n",
    "counts = Counter(agnes_text)\n",
    "for stop_word in STOP_WORDS:\n",
    "    del counts[stop_word]\n",
    "\n",
    "counts.most_common(7)"
   ]
  },
  {
   "cell_type": "code",
   "execution_count": 270,
   "metadata": {},
   "outputs": [
    {
     "data": {
      "text/plain": [
       "[('decal', 590),\n",
       " ('monogram', 300),\n",
       " ('decals', 231),\n",
       " ('personalized', 222),\n",
       " ('color', 185),\n",
       " ('tanning', 184),\n",
       " ('name', 159)]"
      ]
     },
     "execution_count": 270,
     "metadata": {},
     "output_type": "execute_result"
    }
   ],
   "source": [
    "brandi_text = [word for word in text_df.loc['DesignsByBrandiCo', 'text'].split(' ') if len(word) > 3]\n",
    "\n",
    "counts = Counter(brandi_text)\n",
    "for stop_word in STOP_WORDS:\n",
    "    del counts[stop_word]\n",
    "\n",
    "counts.most_common(7)"
   ]
  },
  {
   "cell_type": "markdown",
   "metadata": {},
   "source": [
    "## Compute TF-IDF matrices"
   ]
  },
  {
   "cell_type": "code",
   "execution_count": 77,
   "metadata": {},
   "outputs": [],
   "source": [
    "from sklearn.feature_extraction.text import TfidfVectorizer"
   ]
  },
  {
   "cell_type": "code",
   "execution_count": 272,
   "metadata": {},
   "outputs": [
    {
     "name": "stdout",
     "output_type": "stream",
     "text": [
      "['agneshart', 'hair', 'headpiece', 'made', 'please', 'shop', 'veil']\n"
     ]
    },
    {
     "data": {
      "text/plain": [
       "7"
      ]
     },
     "execution_count": 272,
     "metadata": {},
     "output_type": "execute_result"
    }
   ],
   "source": [
    "STOP_WORDS =  [\n",
    "    'http', 'www', 'com', 'that', 'the', 'this', 'with', 'will', 'and', 'but', 'etsy', 'for', 'about', 'can',\n",
    "    'also', 'here', 'see', 'read', 'you', 'your', 'are', 'all', 'these', 'etc', 'quot', 'more', 'other', 'any', 'car'\n",
    "]\n",
    "\n",
    "\n",
    "tf = TfidfVectorizer(\n",
    "    analyzer='word',\n",
    "    ngram_range=(1, 1),\n",
    "    min_df=0.2,\n",
    "    token_pattern=r'\\b[a-z]{3,}\\b',\n",
    "    max_features=7,\n",
    "    strip_accents='ascii',\n",
    "    lowercase=True,\n",
    "    stop_words=STOP_WORDS\n",
    ")\n",
    "\n",
    "X = tf.fit_transform(agnes_df['text'])\n",
    "print(tf.get_feature_names())\n",
    "len(tf.get_feature_names())"
   ]
  },
  {
   "cell_type": "code",
   "execution_count": 273,
   "metadata": {},
   "outputs": [
    {
     "name": "stdout",
     "output_type": "stream",
     "text": [
      "['checkout', 'color', 'decal', 'decals', 'monogram', 'name', 'personalized']\n"
     ]
    },
    {
     "data": {
      "text/plain": [
       "7"
      ]
     },
     "execution_count": 273,
     "metadata": {},
     "output_type": "execute_result"
    }
   ],
   "source": [
    "X = tf.fit_transform(brandi_df['text'])\n",
    "print(tf.get_feature_names())\n",
    "len(tf.get_feature_names())"
   ]
  }
 ],
 "metadata": {
  "kernelspec": {
   "display_name": "Python 3",
   "language": "python",
   "name": "python3"
  },
  "language_info": {
   "codemirror_mode": {
    "name": "ipython",
    "version": 3
   },
   "file_extension": ".py",
   "mimetype": "text/x-python",
   "name": "python",
   "nbconvert_exporter": "python",
   "pygments_lexer": "ipython3",
   "version": "3.7.1"
  },
  "name": "etsy_shops.ipynb",
  "toc": {
   "base_numbering": 1,
   "nav_menu": {
    "height": "104.833px",
    "width": "252px"
   },
   "number_sections": true,
   "sideBar": true,
   "skip_h1_title": false,
   "title_cell": "Table of Contents",
   "title_sidebar": "Contents",
   "toc_cell": false,
   "toc_position": null,
   "toc_section_display": true,
   "toc_window_display": false
  }
 },
 "nbformat": 4,
 "nbformat_minor": 2
}
